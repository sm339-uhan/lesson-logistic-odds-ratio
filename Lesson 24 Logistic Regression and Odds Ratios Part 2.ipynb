{
 "cells": [
  {
   "cell_type": "markdown",
   "id": "ee780bb9-5451-4a98-9de3-3797ea0bd7d7",
   "metadata": {},
   "source": [
    "**SM339 &#x25aa; Applied Statistics &#x25aa; Spring 2024 &#x25aa; Uhan**"
   ]
  },
  {
   "cell_type": "markdown",
   "id": "6d1da802-eac5-41bf-b09e-fe3eded22031",
   "metadata": {},
   "source": [
    "# Lesson 24. Logistic Regression and Odds Ratios &ndash; Part 2 "
   ]
  },
  {
   "cell_type": "markdown",
   "id": "c3a8a088-b777-42e3-83c0-7b89d65c134b",
   "metadata": {},
   "source": [
    "## Example 1"
   ]
  },
  {
   "cell_type": "markdown",
   "id": "cdccad8b-f1fe-4f55-9ac7-000032325a04",
   "metadata": {},
   "source": [
    "Continuing with the TMS data in Part 1 of this lesson...\n",
    "\n",
    "The data resides in a CSV file `data/tms.csv`, located in the same folder as this notebook.\n",
    "\n",
    "Let's load the CSV file into a data frame, and preview the data:"
   ]
  },
  {
   "cell_type": "code",
   "execution_count": null,
   "id": "9ec7e99a-8142-4adf-92ec-9d1f144fa31e",
   "metadata": {},
   "outputs": [],
   "source": []
  },
  {
   "cell_type": "code",
   "execution_count": 1,
   "id": "6b8a8f74-1867-4870-9903-d91e8f56882e",
   "metadata": {
    "tags": [
     "solution"
    ]
   },
   "outputs": [
    {
     "data": {
      "text/html": [
       "<table class=\"dataframe\">\n",
       "<caption>A data.frame: 6 × 2</caption>\n",
       "<thead>\n",
       "\t<tr><th></th><th scope=col>TMS</th><th scope=col>PainFree</th></tr>\n",
       "\t<tr><th></th><th scope=col>&lt;int&gt;</th><th scope=col>&lt;int&gt;</th></tr>\n",
       "</thead>\n",
       "<tbody>\n",
       "\t<tr><th scope=row>1</th><td>1</td><td>1</td></tr>\n",
       "\t<tr><th scope=row>2</th><td>1</td><td>1</td></tr>\n",
       "\t<tr><th scope=row>3</th><td>1</td><td>1</td></tr>\n",
       "\t<tr><th scope=row>4</th><td>1</td><td>1</td></tr>\n",
       "\t<tr><th scope=row>5</th><td>1</td><td>1</td></tr>\n",
       "\t<tr><th scope=row>6</th><td>1</td><td>1</td></tr>\n",
       "</tbody>\n",
       "</table>\n"
      ],
      "text/latex": [
       "A data.frame: 6 × 2\n",
       "\\begin{tabular}{r|ll}\n",
       "  & TMS & PainFree\\\\\n",
       "  & <int> & <int>\\\\\n",
       "\\hline\n",
       "\t1 & 1 & 1\\\\\n",
       "\t2 & 1 & 1\\\\\n",
       "\t3 & 1 & 1\\\\\n",
       "\t4 & 1 & 1\\\\\n",
       "\t5 & 1 & 1\\\\\n",
       "\t6 & 1 & 1\\\\\n",
       "\\end{tabular}\n"
      ],
      "text/markdown": [
       "\n",
       "A data.frame: 6 × 2\n",
       "\n",
       "| <!--/--> | TMS &lt;int&gt; | PainFree &lt;int&gt; |\n",
       "|---|---|---|\n",
       "| 1 | 1 | 1 |\n",
       "| 2 | 1 | 1 |\n",
       "| 3 | 1 | 1 |\n",
       "| 4 | 1 | 1 |\n",
       "| 5 | 1 | 1 |\n",
       "| 6 | 1 | 1 |\n",
       "\n"
      ],
      "text/plain": [
       "  TMS PainFree\n",
       "1 1   1       \n",
       "2 1   1       \n",
       "3 1   1       \n",
       "4 1   1       \n",
       "5 1   1       \n",
       "6 1   1       "
      ]
     },
     "metadata": {},
     "output_type": "display_data"
    }
   ],
   "source": [
    "# Solution \n",
    "tms.data <- read.csv('data/tms.csv')\n",
    "head(tms.data)"
   ]
  },
  {
   "cell_type": "markdown",
   "id": "c81fae2b-93d9-471c-913d-fdb25aa39cd0",
   "metadata": {},
   "source": [
    "Next, as a check, we can create a two-way table that tabulates the different values in the `PainFree` and `TMS` variables: "
   ]
  },
  {
   "cell_type": "code",
   "execution_count": 2,
   "id": "db080919-1cca-4f30-884f-8ce57b0f97fb",
   "metadata": {
    "tags": [
     "solution"
    ]
   },
   "outputs": [
    {
     "data": {
      "text/plain": [
       "   \n",
       "     0  1\n",
       "  0 78 61\n",
       "  1 22 39"
      ]
     },
     "metadata": {},
     "output_type": "display_data"
    }
   ],
   "source": [
    "# Solution\n",
    "table(tms.data$PainFree, tms.data$TMS)"
   ]
  },
  {
   "cell_type": "markdown",
   "id": "819b5594-acdb-4c25-b871-ac9ebb053ef7",
   "metadata": {},
   "source": [
    "This matches the data we were given in Part 1 of this lesson!\n",
    "\n",
    "Now, we can fit a logistic regression model that uses treatment status to predict the probability of being pain-free. \n",
    "\n",
    "Note the use of the `glm()` function, and the `family = binomial` keyword argument."
   ]
  },
  {
   "cell_type": "code",
   "execution_count": null,
   "id": "9ba7e3d1-02f1-45f3-a9fc-dd55808ba821",
   "metadata": {},
   "outputs": [],
   "source": []
  },
  {
   "cell_type": "code",
   "execution_count": 3,
   "id": "9c529933-ef47-4ac0-bf12-32b2b88448e2",
   "metadata": {
    "tags": [
     "solution"
    ]
   },
   "outputs": [
    {
     "data": {
      "text/plain": [
       "\n",
       "Call:\n",
       "glm(formula = PainFree ~ TMS, family = binomial, data = tms.data)\n",
       "\n",
       "Deviance Residuals: \n",
       "    Min       1Q   Median       3Q      Max  \n",
       "-0.9943  -0.9943  -0.7049   1.3723   1.7402  \n",
       "\n",
       "Coefficients:\n",
       "            Estimate Std. Error z value Pr(>|z|)    \n",
       "(Intercept)  -1.2657     0.2414  -5.243 1.58e-07 ***\n",
       "TMS           0.8184     0.3167   2.584  0.00977 ** \n",
       "---\n",
       "Signif. codes:  0 ‘***’ 0.001 ‘**’ 0.01 ‘*’ 0.05 ‘.’ 0.1 ‘ ’ 1\n",
       "\n",
       "(Dispersion parameter for binomial family taken to be 1)\n",
       "\n",
       "    Null deviance: 246.02  on 199  degrees of freedom\n",
       "Residual deviance: 239.13  on 198  degrees of freedom\n",
       "AIC: 243.13\n",
       "\n",
       "Number of Fisher Scoring iterations: 4\n"
      ]
     },
     "metadata": {},
     "output_type": "display_data"
    }
   ],
   "source": [
    "# Solution\n",
    "fit <- glm(PainFree ~ TMS, data = tms.data, family = binomial)\n",
    "summary(fit)"
   ]
  },
  {
   "cell_type": "markdown",
   "id": "371aa41e-9dd6-4209-b6f0-5b59026bb5ac",
   "metadata": {},
   "source": [
    "## Example 2"
   ]
  },
  {
   "cell_type": "markdown",
   "id": "127e8248-4230-40d2-a3c3-6538eab6ee18",
   "metadata": {},
   "source": [
    "Continuing with the medical school applicant data `MedGPA` from Part 1 of this lesson...\n",
    "\n",
    "First, let's load and preview the data: "
   ]
  },
  {
   "cell_type": "code",
   "execution_count": null,
   "id": "d7ca88d3-f738-472e-af28-a8006911d180",
   "metadata": {},
   "outputs": [],
   "source": []
  },
  {
   "cell_type": "code",
   "execution_count": 4,
   "id": "080e414b-2547-4dba-abfd-a7772775f140",
   "metadata": {
    "tags": [
     "solution"
    ]
   },
   "outputs": [
    {
     "data": {
      "text/html": [
       "<table class=\"dataframe\">\n",
       "<caption>A data.frame: 6 × 11</caption>\n",
       "<thead>\n",
       "\t<tr><th></th><th scope=col>Accept</th><th scope=col>Acceptance</th><th scope=col>Sex</th><th scope=col>BCPM</th><th scope=col>GPA</th><th scope=col>VR</th><th scope=col>PS</th><th scope=col>WS</th><th scope=col>BS</th><th scope=col>MCAT</th><th scope=col>Apps</th></tr>\n",
       "\t<tr><th></th><th scope=col>&lt;fct&gt;</th><th scope=col>&lt;int&gt;</th><th scope=col>&lt;fct&gt;</th><th scope=col>&lt;dbl&gt;</th><th scope=col>&lt;dbl&gt;</th><th scope=col>&lt;int&gt;</th><th scope=col>&lt;int&gt;</th><th scope=col>&lt;int&gt;</th><th scope=col>&lt;int&gt;</th><th scope=col>&lt;int&gt;</th><th scope=col>&lt;int&gt;</th></tr>\n",
       "</thead>\n",
       "<tbody>\n",
       "\t<tr><th scope=row>1</th><td>D</td><td>0</td><td>F</td><td>3.59</td><td>3.62</td><td>11</td><td> 9</td><td>9</td><td> 9</td><td>38</td><td> 5</td></tr>\n",
       "\t<tr><th scope=row>2</th><td>A</td><td>1</td><td>M</td><td>3.75</td><td>3.84</td><td>12</td><td>13</td><td>8</td><td>12</td><td>45</td><td> 3</td></tr>\n",
       "\t<tr><th scope=row>3</th><td>A</td><td>1</td><td>F</td><td>3.24</td><td>3.23</td><td> 9</td><td>10</td><td>5</td><td> 9</td><td>33</td><td>19</td></tr>\n",
       "\t<tr><th scope=row>4</th><td>A</td><td>1</td><td>F</td><td>3.74</td><td>3.69</td><td>12</td><td>11</td><td>7</td><td>10</td><td>40</td><td> 5</td></tr>\n",
       "\t<tr><th scope=row>5</th><td>A</td><td>1</td><td>F</td><td>3.53</td><td>3.38</td><td> 9</td><td>11</td><td>4</td><td>11</td><td>35</td><td>11</td></tr>\n",
       "\t<tr><th scope=row>6</th><td>A</td><td>1</td><td>M</td><td>3.59</td><td>3.72</td><td>10</td><td> 9</td><td>7</td><td>10</td><td>36</td><td> 5</td></tr>\n",
       "</tbody>\n",
       "</table>\n"
      ],
      "text/latex": [
       "A data.frame: 6 × 11\n",
       "\\begin{tabular}{r|lllllllllll}\n",
       "  & Accept & Acceptance & Sex & BCPM & GPA & VR & PS & WS & BS & MCAT & Apps\\\\\n",
       "  & <fct> & <int> & <fct> & <dbl> & <dbl> & <int> & <int> & <int> & <int> & <int> & <int>\\\\\n",
       "\\hline\n",
       "\t1 & D & 0 & F & 3.59 & 3.62 & 11 &  9 & 9 &  9 & 38 &  5\\\\\n",
       "\t2 & A & 1 & M & 3.75 & 3.84 & 12 & 13 & 8 & 12 & 45 &  3\\\\\n",
       "\t3 & A & 1 & F & 3.24 & 3.23 &  9 & 10 & 5 &  9 & 33 & 19\\\\\n",
       "\t4 & A & 1 & F & 3.74 & 3.69 & 12 & 11 & 7 & 10 & 40 &  5\\\\\n",
       "\t5 & A & 1 & F & 3.53 & 3.38 &  9 & 11 & 4 & 11 & 35 & 11\\\\\n",
       "\t6 & A & 1 & M & 3.59 & 3.72 & 10 &  9 & 7 & 10 & 36 &  5\\\\\n",
       "\\end{tabular}\n"
      ],
      "text/markdown": [
       "\n",
       "A data.frame: 6 × 11\n",
       "\n",
       "| <!--/--> | Accept &lt;fct&gt; | Acceptance &lt;int&gt; | Sex &lt;fct&gt; | BCPM &lt;dbl&gt; | GPA &lt;dbl&gt; | VR &lt;int&gt; | PS &lt;int&gt; | WS &lt;int&gt; | BS &lt;int&gt; | MCAT &lt;int&gt; | Apps &lt;int&gt; |\n",
       "|---|---|---|---|---|---|---|---|---|---|---|---|\n",
       "| 1 | D | 0 | F | 3.59 | 3.62 | 11 |  9 | 9 |  9 | 38 |  5 |\n",
       "| 2 | A | 1 | M | 3.75 | 3.84 | 12 | 13 | 8 | 12 | 45 |  3 |\n",
       "| 3 | A | 1 | F | 3.24 | 3.23 |  9 | 10 | 5 |  9 | 33 | 19 |\n",
       "| 4 | A | 1 | F | 3.74 | 3.69 | 12 | 11 | 7 | 10 | 40 |  5 |\n",
       "| 5 | A | 1 | F | 3.53 | 3.38 |  9 | 11 | 4 | 11 | 35 | 11 |\n",
       "| 6 | A | 1 | M | 3.59 | 3.72 | 10 |  9 | 7 | 10 | 36 |  5 |\n",
       "\n"
      ],
      "text/plain": [
       "  Accept Acceptance Sex BCPM GPA  VR PS WS BS MCAT Apps\n",
       "1 D      0          F   3.59 3.62 11  9 9   9 38    5  \n",
       "2 A      1          M   3.75 3.84 12 13 8  12 45    3  \n",
       "3 A      1          F   3.24 3.23  9 10 5   9 33   19  \n",
       "4 A      1          F   3.74 3.69 12 11 7  10 40    5  \n",
       "5 A      1          F   3.53 3.38  9 11 4  11 35   11  \n",
       "6 A      1          M   3.59 3.72 10  9 7  10 36    5  "
      ]
     },
     "metadata": {},
     "output_type": "display_data"
    }
   ],
   "source": [
    "# Solution \n",
    "library(Stat2Data)\n",
    "data(MedGPA)\n",
    "head(MedGPA)"
   ]
  },
  {
   "cell_type": "markdown",
   "id": "570044ae-f7a2-4006-98ce-06a4a40e17b8",
   "metadata": {},
   "source": [
    "Now we can fit a logistic regression model that predicts the probability of being accepted into medical school based on GPA"
   ]
  },
  {
   "cell_type": "code",
   "execution_count": null,
   "id": "41c442d3-998f-4833-bddb-9e1e7cdad0b1",
   "metadata": {},
   "outputs": [],
   "source": []
  },
  {
   "cell_type": "code",
   "execution_count": 5,
   "id": "26285b1c-12f3-4bbe-a806-9f0de22dd1bf",
   "metadata": {
    "tags": [
     "solution"
    ]
   },
   "outputs": [
    {
     "data": {
      "text/plain": [
       "\n",
       "Call:\n",
       "glm(formula = Acceptance ~ GPA, family = binomial, data = MedGPA)\n",
       "\n",
       "Deviance Residuals: \n",
       "    Min       1Q   Median       3Q      Max  \n",
       "-1.7805  -0.8522   0.4407   0.7819   2.0967  \n",
       "\n",
       "Coefficients:\n",
       "            Estimate Std. Error z value Pr(>|z|)    \n",
       "(Intercept)  -19.207      5.629  -3.412 0.000644 ***\n",
       "GPA            5.454      1.579   3.454 0.000553 ***\n",
       "---\n",
       "Signif. codes:  0 ‘***’ 0.001 ‘**’ 0.01 ‘*’ 0.05 ‘.’ 0.1 ‘ ’ 1\n",
       "\n",
       "(Dispersion parameter for binomial family taken to be 1)\n",
       "\n",
       "    Null deviance: 75.791  on 54  degrees of freedom\n",
       "Residual deviance: 56.839  on 53  degrees of freedom\n",
       "AIC: 60.839\n",
       "\n",
       "Number of Fisher Scoring iterations: 4\n"
      ]
     },
     "metadata": {},
     "output_type": "display_data"
    }
   ],
   "source": [
    "# Solution\n",
    "fit <- glm(Acceptance ~ GPA, data = MedGPA, family = binomial)\n",
    "summary(fit)"
   ]
  },
  {
   "cell_type": "markdown",
   "id": "41893675-e485-439f-929b-831f6f0d491e",
   "metadata": {},
   "source": [
    "We can plot our fitted model against the raw data as follows.\n",
    "\n",
    "Note the keyword argument `type = response` in the `predict()` function when creating the `fit.yy` vector."
   ]
  },
  {
   "cell_type": "code",
   "execution_count": null,
   "id": "46a0226b-8493-4482-9dbb-1b6ea141fc80",
   "metadata": {},
   "outputs": [],
   "source": []
  },
  {
   "cell_type": "code",
   "execution_count": 6,
   "id": "18a0c3f5-4585-403d-ac10-33075e7fe8c7",
   "metadata": {
    "tags": [
     "solution"
    ]
   },
   "outputs": [
    {
     "data": {
      "image/png": "[encoded data removed]",
      "text/plain": [
       "plot without title"
      ]
     },
     "metadata": {
      "image/png": {
       "height": 420,
       "width": 420
      }
     },
     "output_type": "display_data"
    }
   ],
   "source": [
    "# Solution\n",
    "plot(MedGPA$GPA, MedGPA$Acceptance)\n",
    "fit.xx <- seq(from=2.6, to=4.0, by=0.01)  # Create x values for fitted model plot \n",
    "fit.yy <- predict(fit, newdata = data.frame(GPA = fit.xx), type = \"response\")  # Create y values for fitted model plot\n",
    "lines(fit.xx, fit.yy)"
   ]
  }
 ],
 "metadata": {
  "kernelspec": {
   "display_name": "R",
   "language": "R",
   "name": "ir"
  },
  "language_info": {
   "codemirror_mode": "r",
   "file_extension": ".r",
   "mimetype": "text/x-r-source",
   "name": "R",
   "pygments_lexer": "r",
   "version": "4.3.2"
  }
 },
 "nbformat": 4,
 "nbformat_minor": 5
}
