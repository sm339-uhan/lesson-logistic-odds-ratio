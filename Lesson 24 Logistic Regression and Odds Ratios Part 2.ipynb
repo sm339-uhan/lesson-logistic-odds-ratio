{
 "cells": [
  {
   "cell_type": "markdown",
   "id": "ee780bb9-5451-4a98-9de3-3797ea0bd7d7",
   "metadata": {},
   "source": [
    "**SM339 &#x25aa; Applied Statistics &#x25aa; Spring 2024 &#x25aa; Uhan**"
   ]
  },
  {
   "cell_type": "markdown",
   "id": "6d1da802-eac5-41bf-b09e-fe3eded22031",
   "metadata": {},
   "source": [
    "# Lesson 24. Logistic Regression and Odds Ratios &ndash; Part 2 "
   ]
  },
  {
   "cell_type": "markdown",
   "id": "c3a8a088-b777-42e3-83c0-7b89d65c134b",
   "metadata": {},
   "source": [
    "## Example 1"
   ]
  },
  {
   "cell_type": "markdown",
   "id": "cdccad8b-f1fe-4f55-9ac7-000032325a04",
   "metadata": {},
   "source": [
    "Continuing with the TMS data in Part 1 of this lesson...\n",
    "\n",
    "The data resides in a CSV file `data/tms.csv`, located in the same folder as this notebook.\n",
    "\n",
    "* Let's load the CSV file into a data frame, and preview the data:"
   ]
  },
  {
   "cell_type": "code",
   "execution_count": null,
   "id": "9ec7e99a-8142-4adf-92ec-9d1f144fa31e",
   "metadata": {},
   "outputs": [],
   "source": []
  },
  {
   "cell_type": "markdown",
   "id": "c81fae2b-93d9-471c-913d-fdb25aa39cd0",
   "metadata": {},
   "source": [
    "* Next, as a check, we can create a two-way table that tabulates the different values in the `PainFree` and `TMS` variables: "
   ]
  },
  {
   "cell_type": "markdown",
   "id": "819b5594-acdb-4c25-b871-ac9ebb053ef7",
   "metadata": {},
   "source": [
    "* This matches the data we were given in Part 1 of this lesson!\n",
    "\n",
    "* Now, we can fit a logistic regression model that uses treatment status to predict the probability of being pain-free\n",
    "\n",
    "* Note the use of the `glm()` function, and the `family = binomial` keyword argument."
   ]
  },
  {
   "cell_type": "code",
   "execution_count": null,
   "id": "9ba7e3d1-02f1-45f3-a9fc-dd55808ba821",
   "metadata": {},
   "outputs": [],
   "source": []
  },
  {
   "cell_type": "markdown",
   "id": "371aa41e-9dd6-4209-b6f0-5b59026bb5ac",
   "metadata": {},
   "source": [
    "## Example 2"
   ]
  },
  {
   "cell_type": "markdown",
   "id": "127e8248-4230-40d2-a3c3-6538eab6ee18",
   "metadata": {},
   "source": [
    "Continuing with the medical school applicant data `MedGPA` from Part 1 of this lesson...\n",
    "\n",
    "* First, let's load and preview the data: "
   ]
  },
  {
   "cell_type": "code",
   "execution_count": null,
   "id": "d7ca88d3-f738-472e-af28-a8006911d180",
   "metadata": {},
   "outputs": [],
   "source": []
  },
  {
   "cell_type": "markdown",
   "id": "570044ae-f7a2-4006-98ce-06a4a40e17b8",
   "metadata": {},
   "source": [
    "* Now we can fit a logistic regression model that predicts the probability of being accepted into medical school based on GPA"
   ]
  },
  {
   "cell_type": "code",
   "execution_count": null,
   "id": "41c442d3-998f-4833-bddb-9e1e7cdad0b1",
   "metadata": {},
   "outputs": [],
   "source": []
  },
  {
   "cell_type": "markdown",
   "id": "41893675-e485-439f-929b-831f6f0d491e",
   "metadata": {},
   "source": [
    "* We can plot our fitted model against the raw data as follows\n",
    "\n",
    "* Note the keyword argument `type = response` in the `predict()` function when creating the `fit.yy` vector"
   ]
  },
  {
   "cell_type": "code",
   "execution_count": null,
   "id": "46a0226b-8493-4482-9dbb-1b6ea141fc80",
   "metadata": {},
   "outputs": [],
   "source": []
  }
 ],
 "metadata": {
  "kernelspec": {
   "display_name": "R",
   "language": "R",
   "name": "ir"
  },
  "language_info": {
   "codemirror_mode": "r",
   "file_extension": ".r",
   "mimetype": "text/x-r-source",
   "name": "R",
   "pygments_lexer": "r",
   "version": "4.3.2"
  }
 },
 "nbformat": 4,
 "nbformat_minor": 5
}
